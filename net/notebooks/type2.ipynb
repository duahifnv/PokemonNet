{
 "cells": [
  {
   "metadata": {},
   "cell_type": "markdown",
   "source": "<h2>Классификация типа 2</h2>",
   "id": "a3fa90e65e82b897"
  },
  {
   "metadata": {
    "ExecuteTime": {
     "end_time": "2024-06-05T19:30:14.748849Z",
     "start_time": "2024-06-05T19:30:11.004512Z"
    }
   },
   "cell_type": "code",
   "source": [
    "import tensorflow as tf\n",
    "from tensorflow import keras as ks\n",
    "import pandas as pd\n",
    "import numpy as np\n",
    "import matplotlib.pyplot as plt\n",
    "import matplotlib.style as stl\n",
    "stl.use(\"ggplot\")\n",
    "import seaborn as sns\n",
    "import os\n",
    "import warnings\n",
    "warnings.filterwarnings('ignore')"
   ],
   "id": "536ee0be0e9fd95c",
   "outputs": [],
   "execution_count": 1
  },
  {
   "metadata": {
    "ExecuteTime": {
     "end_time": "2024-06-05T19:30:16.321845Z",
     "start_time": "2024-06-05T19:30:16.311323Z"
    }
   },
   "cell_type": "code",
   "source": "from tensorflow.keras.preprocessing.image import ImageDataGenerator",
   "id": "9f0fbc6696fba4cb",
   "outputs": [],
   "execution_count": 2
  },
  {
   "metadata": {
    "ExecuteTime": {
     "end_time": "2024-06-05T19:30:17.367550Z",
     "start_time": "2024-06-05T19:30:17.359542Z"
    }
   },
   "cell_type": "code",
   "source": "os.getcwd()",
   "id": "c160d1f31466bc79",
   "outputs": [
    {
     "data": {
      "text/plain": [
       "'D:\\\\DSTU\\\\практика ИИ\\\\PokemonNet\\\\net\\\\notebooks'"
      ]
     },
     "execution_count": 3,
     "metadata": {},
     "output_type": "execute_result"
    }
   ],
   "execution_count": 3
  },
  {
   "metadata": {
    "ExecuteTime": {
     "end_time": "2024-06-05T19:30:18.984923Z",
     "start_time": "2024-06-05T19:30:18.978638Z"
    }
   },
   "cell_type": "code",
   "source": "os.chdir('..')",
   "id": "fd3d1c41babb5ca1",
   "outputs": [],
   "execution_count": 4
  },
  {
   "metadata": {},
   "cell_type": "markdown",
   "source": "<h3>Чистка датасета</h3>",
   "id": "b1e18ccf6667c007"
  },
  {
   "metadata": {
    "ExecuteTime": {
     "end_time": "2024-06-05T19:30:23.014649Z",
     "start_time": "2024-06-05T19:30:22.986971Z"
    }
   },
   "cell_type": "code",
   "source": [
    "data = pd.read_csv('datasets/pokemon.csv')\n",
    "data.shape"
   ],
   "id": "4114fdc5465a9c85",
   "outputs": [
    {
     "data": {
      "text/plain": [
       "(801, 41)"
      ]
     },
     "execution_count": 5,
     "metadata": {},
     "output_type": "execute_result"
    }
   ],
   "execution_count": 5
  },
  {
   "metadata": {
    "ExecuteTime": {
     "end_time": "2024-06-05T19:30:24.161924Z",
     "start_time": "2024-06-05T19:30:24.154141Z"
    }
   },
   "cell_type": "code",
   "source": [
    "data = data[[\"name\",\"type1\",\"type2\"]]\n",
    "data = data.sort_values(by=['name'], ascending=True).reset_index(drop=True)"
   ],
   "id": "c4c8b4c4a4899bb",
   "outputs": [],
   "execution_count": 6
  },
  {
   "metadata": {
    "ExecuteTime": {
     "end_time": "2024-06-05T19:30:25.304149Z",
     "start_time": "2024-06-05T19:30:25.296186Z"
    }
   },
   "cell_type": "code",
   "source": "data['name'] = data['name'].str.lower()",
   "id": "732ce477412a76ff",
   "outputs": [],
   "execution_count": 7
  },
  {
   "metadata": {
    "ExecuteTime": {
     "end_time": "2024-06-05T19:30:25.989639Z",
     "start_time": "2024-06-05T19:30:25.976672Z"
    }
   },
   "cell_type": "code",
   "source": "data",
   "id": "b5720bfbc0e0710f",
   "outputs": [
    {
     "data": {
      "text/plain": [
       "          name    type1   type2\n",
       "0    abomasnow    grass     ice\n",
       "1         abra  psychic     NaN\n",
       "2        absol     dark     NaN\n",
       "3     accelgor      bug     NaN\n",
       "4    aegislash    steel   ghost\n",
       "..         ...      ...     ...\n",
       "796    zoroark     dark     NaN\n",
       "797      zorua     dark     NaN\n",
       "798      zubat   poison  flying\n",
       "799   zweilous     dark  dragon\n",
       "800    zygarde   dragon  ground\n",
       "\n",
       "[801 rows x 3 columns]"
      ],
      "text/html": [
       "<div>\n",
       "<style scoped>\n",
       "    .dataframe tbody tr th:only-of-type {\n",
       "        vertical-align: middle;\n",
       "    }\n",
       "\n",
       "    .dataframe tbody tr th {\n",
       "        vertical-align: top;\n",
       "    }\n",
       "\n",
       "    .dataframe thead th {\n",
       "        text-align: right;\n",
       "    }\n",
       "</style>\n",
       "<table border=\"1\" class=\"dataframe\">\n",
       "  <thead>\n",
       "    <tr style=\"text-align: right;\">\n",
       "      <th></th>\n",
       "      <th>name</th>\n",
       "      <th>type1</th>\n",
       "      <th>type2</th>\n",
       "    </tr>\n",
       "  </thead>\n",
       "  <tbody>\n",
       "    <tr>\n",
       "      <th>0</th>\n",
       "      <td>abomasnow</td>\n",
       "      <td>grass</td>\n",
       "      <td>ice</td>\n",
       "    </tr>\n",
       "    <tr>\n",
       "      <th>1</th>\n",
       "      <td>abra</td>\n",
       "      <td>psychic</td>\n",
       "      <td>NaN</td>\n",
       "    </tr>\n",
       "    <tr>\n",
       "      <th>2</th>\n",
       "      <td>absol</td>\n",
       "      <td>dark</td>\n",
       "      <td>NaN</td>\n",
       "    </tr>\n",
       "    <tr>\n",
       "      <th>3</th>\n",
       "      <td>accelgor</td>\n",
       "      <td>bug</td>\n",
       "      <td>NaN</td>\n",
       "    </tr>\n",
       "    <tr>\n",
       "      <th>4</th>\n",
       "      <td>aegislash</td>\n",
       "      <td>steel</td>\n",
       "      <td>ghost</td>\n",
       "    </tr>\n",
       "    <tr>\n",
       "      <th>...</th>\n",
       "      <td>...</td>\n",
       "      <td>...</td>\n",
       "      <td>...</td>\n",
       "    </tr>\n",
       "    <tr>\n",
       "      <th>796</th>\n",
       "      <td>zoroark</td>\n",
       "      <td>dark</td>\n",
       "      <td>NaN</td>\n",
       "    </tr>\n",
       "    <tr>\n",
       "      <th>797</th>\n",
       "      <td>zorua</td>\n",
       "      <td>dark</td>\n",
       "      <td>NaN</td>\n",
       "    </tr>\n",
       "    <tr>\n",
       "      <th>798</th>\n",
       "      <td>zubat</td>\n",
       "      <td>poison</td>\n",
       "      <td>flying</td>\n",
       "    </tr>\n",
       "    <tr>\n",
       "      <th>799</th>\n",
       "      <td>zweilous</td>\n",
       "      <td>dark</td>\n",
       "      <td>dragon</td>\n",
       "    </tr>\n",
       "    <tr>\n",
       "      <th>800</th>\n",
       "      <td>zygarde</td>\n",
       "      <td>dragon</td>\n",
       "      <td>ground</td>\n",
       "    </tr>\n",
       "  </tbody>\n",
       "</table>\n",
       "<p>801 rows × 3 columns</p>\n",
       "</div>"
      ]
     },
     "execution_count": 8,
     "metadata": {},
     "output_type": "execute_result"
    }
   ],
   "execution_count": 8
  },
  {
   "metadata": {
    "ExecuteTime": {
     "end_time": "2024-06-05T19:30:30.997676Z",
     "start_time": "2024-06-05T19:30:30.977240Z"
    }
   },
   "cell_type": "code",
   "source": [
    "print(data.type2.isna().sum())\n",
    "print(data.type1.isna().sum())"
   ],
   "id": "21e36a098591f3f6",
   "outputs": [
    {
     "name": "stdout",
     "output_type": "stream",
     "text": [
      "384\n",
      "0\n"
     ]
    }
   ],
   "execution_count": 9
  },
  {
   "metadata": {
    "ExecuteTime": {
     "end_time": "2024-06-05T19:30:31.832760Z",
     "start_time": "2024-06-05T19:30:31.815465Z"
    }
   },
   "cell_type": "code",
   "source": "data.type1.value_counts()[:5]",
   "id": "a75cbc479396343d",
   "outputs": [
    {
     "data": {
      "text/plain": [
       "type1\n",
       "water      114\n",
       "normal     105\n",
       "grass       78\n",
       "bug         72\n",
       "psychic     53\n",
       "Name: count, dtype: int64"
      ]
     },
     "execution_count": 10,
     "metadata": {},
     "output_type": "execute_result"
    }
   ],
   "execution_count": 10
  },
  {
   "metadata": {
    "ExecuteTime": {
     "end_time": "2024-06-05T19:30:34.316723Z",
     "start_time": "2024-06-05T19:30:34.293464Z"
    }
   },
   "cell_type": "code",
   "source": [
    "most_common = ['water', 'normal', 'grass', 'bug', 'psychic']\n",
    "data.type1 = data.type1[data.type1.isin(most_common)]\n",
    "data"
   ],
   "id": "fc4c7621e3b2d627",
   "outputs": [
    {
     "data": {
      "text/plain": [
       "          name    type1   type2\n",
       "0    abomasnow    grass     ice\n",
       "1         abra  psychic     NaN\n",
       "2        absol      NaN     NaN\n",
       "3     accelgor      bug     NaN\n",
       "4    aegislash      NaN   ghost\n",
       "..         ...      ...     ...\n",
       "796    zoroark      NaN     NaN\n",
       "797      zorua      NaN     NaN\n",
       "798      zubat      NaN  flying\n",
       "799   zweilous      NaN  dragon\n",
       "800    zygarde      NaN  ground\n",
       "\n",
       "[801 rows x 3 columns]"
      ],
      "text/html": [
       "<div>\n",
       "<style scoped>\n",
       "    .dataframe tbody tr th:only-of-type {\n",
       "        vertical-align: middle;\n",
       "    }\n",
       "\n",
       "    .dataframe tbody tr th {\n",
       "        vertical-align: top;\n",
       "    }\n",
       "\n",
       "    .dataframe thead th {\n",
       "        text-align: right;\n",
       "    }\n",
       "</style>\n",
       "<table border=\"1\" class=\"dataframe\">\n",
       "  <thead>\n",
       "    <tr style=\"text-align: right;\">\n",
       "      <th></th>\n",
       "      <th>name</th>\n",
       "      <th>type1</th>\n",
       "      <th>type2</th>\n",
       "    </tr>\n",
       "  </thead>\n",
       "  <tbody>\n",
       "    <tr>\n",
       "      <th>0</th>\n",
       "      <td>abomasnow</td>\n",
       "      <td>grass</td>\n",
       "      <td>ice</td>\n",
       "    </tr>\n",
       "    <tr>\n",
       "      <th>1</th>\n",
       "      <td>abra</td>\n",
       "      <td>psychic</td>\n",
       "      <td>NaN</td>\n",
       "    </tr>\n",
       "    <tr>\n",
       "      <th>2</th>\n",
       "      <td>absol</td>\n",
       "      <td>NaN</td>\n",
       "      <td>NaN</td>\n",
       "    </tr>\n",
       "    <tr>\n",
       "      <th>3</th>\n",
       "      <td>accelgor</td>\n",
       "      <td>bug</td>\n",
       "      <td>NaN</td>\n",
       "    </tr>\n",
       "    <tr>\n",
       "      <th>4</th>\n",
       "      <td>aegislash</td>\n",
       "      <td>NaN</td>\n",
       "      <td>ghost</td>\n",
       "    </tr>\n",
       "    <tr>\n",
       "      <th>...</th>\n",
       "      <td>...</td>\n",
       "      <td>...</td>\n",
       "      <td>...</td>\n",
       "    </tr>\n",
       "    <tr>\n",
       "      <th>796</th>\n",
       "      <td>zoroark</td>\n",
       "      <td>NaN</td>\n",
       "      <td>NaN</td>\n",
       "    </tr>\n",
       "    <tr>\n",
       "      <th>797</th>\n",
       "      <td>zorua</td>\n",
       "      <td>NaN</td>\n",
       "      <td>NaN</td>\n",
       "    </tr>\n",
       "    <tr>\n",
       "      <th>798</th>\n",
       "      <td>zubat</td>\n",
       "      <td>NaN</td>\n",
       "      <td>flying</td>\n",
       "    </tr>\n",
       "    <tr>\n",
       "      <th>799</th>\n",
       "      <td>zweilous</td>\n",
       "      <td>NaN</td>\n",
       "      <td>dragon</td>\n",
       "    </tr>\n",
       "    <tr>\n",
       "      <th>800</th>\n",
       "      <td>zygarde</td>\n",
       "      <td>NaN</td>\n",
       "      <td>ground</td>\n",
       "    </tr>\n",
       "  </tbody>\n",
       "</table>\n",
       "<p>801 rows × 3 columns</p>\n",
       "</div>"
      ]
     },
     "execution_count": 11,
     "metadata": {},
     "output_type": "execute_result"
    }
   ],
   "execution_count": 11
  },
  {
   "metadata": {},
   "cell_type": "markdown",
   "source": "<h4>Если у покемона нет вторичного типа, но есть первичный, он присваивается и вторичному типу</h4>",
   "id": "133a4c45e3723bbd"
  },
  {
   "metadata": {
    "ExecuteTime": {
     "end_time": "2024-06-05T19:30:37.225419Z",
     "start_time": "2024-06-05T19:30:37.215053Z"
    }
   },
   "cell_type": "code",
   "source": [
    "data['type2'] = data['type2'].fillna(data['type1'])\n",
    "data"
   ],
   "id": "cc2e3b21a8945726",
   "outputs": [
    {
     "data": {
      "text/plain": [
       "          name    type1    type2\n",
       "0    abomasnow    grass      ice\n",
       "1         abra  psychic  psychic\n",
       "2        absol      NaN      NaN\n",
       "3     accelgor      bug      bug\n",
       "4    aegislash      NaN    ghost\n",
       "..         ...      ...      ...\n",
       "796    zoroark      NaN      NaN\n",
       "797      zorua      NaN      NaN\n",
       "798      zubat      NaN   flying\n",
       "799   zweilous      NaN   dragon\n",
       "800    zygarde      NaN   ground\n",
       "\n",
       "[801 rows x 3 columns]"
      ],
      "text/html": [
       "<div>\n",
       "<style scoped>\n",
       "    .dataframe tbody tr th:only-of-type {\n",
       "        vertical-align: middle;\n",
       "    }\n",
       "\n",
       "    .dataframe tbody tr th {\n",
       "        vertical-align: top;\n",
       "    }\n",
       "\n",
       "    .dataframe thead th {\n",
       "        text-align: right;\n",
       "    }\n",
       "</style>\n",
       "<table border=\"1\" class=\"dataframe\">\n",
       "  <thead>\n",
       "    <tr style=\"text-align: right;\">\n",
       "      <th></th>\n",
       "      <th>name</th>\n",
       "      <th>type1</th>\n",
       "      <th>type2</th>\n",
       "    </tr>\n",
       "  </thead>\n",
       "  <tbody>\n",
       "    <tr>\n",
       "      <th>0</th>\n",
       "      <td>abomasnow</td>\n",
       "      <td>grass</td>\n",
       "      <td>ice</td>\n",
       "    </tr>\n",
       "    <tr>\n",
       "      <th>1</th>\n",
       "      <td>abra</td>\n",
       "      <td>psychic</td>\n",
       "      <td>psychic</td>\n",
       "    </tr>\n",
       "    <tr>\n",
       "      <th>2</th>\n",
       "      <td>absol</td>\n",
       "      <td>NaN</td>\n",
       "      <td>NaN</td>\n",
       "    </tr>\n",
       "    <tr>\n",
       "      <th>3</th>\n",
       "      <td>accelgor</td>\n",
       "      <td>bug</td>\n",
       "      <td>bug</td>\n",
       "    </tr>\n",
       "    <tr>\n",
       "      <th>4</th>\n",
       "      <td>aegislash</td>\n",
       "      <td>NaN</td>\n",
       "      <td>ghost</td>\n",
       "    </tr>\n",
       "    <tr>\n",
       "      <th>...</th>\n",
       "      <td>...</td>\n",
       "      <td>...</td>\n",
       "      <td>...</td>\n",
       "    </tr>\n",
       "    <tr>\n",
       "      <th>796</th>\n",
       "      <td>zoroark</td>\n",
       "      <td>NaN</td>\n",
       "      <td>NaN</td>\n",
       "    </tr>\n",
       "    <tr>\n",
       "      <th>797</th>\n",
       "      <td>zorua</td>\n",
       "      <td>NaN</td>\n",
       "      <td>NaN</td>\n",
       "    </tr>\n",
       "    <tr>\n",
       "      <th>798</th>\n",
       "      <td>zubat</td>\n",
       "      <td>NaN</td>\n",
       "      <td>flying</td>\n",
       "    </tr>\n",
       "    <tr>\n",
       "      <th>799</th>\n",
       "      <td>zweilous</td>\n",
       "      <td>NaN</td>\n",
       "      <td>dragon</td>\n",
       "    </tr>\n",
       "    <tr>\n",
       "      <th>800</th>\n",
       "      <td>zygarde</td>\n",
       "      <td>NaN</td>\n",
       "      <td>ground</td>\n",
       "    </tr>\n",
       "  </tbody>\n",
       "</table>\n",
       "<p>801 rows × 3 columns</p>\n",
       "</div>"
      ]
     },
     "execution_count": 12,
     "metadata": {},
     "output_type": "execute_result"
    }
   ],
   "execution_count": 12
  },
  {
   "metadata": {
    "ExecuteTime": {
     "end_time": "2024-06-05T19:30:38.544051Z",
     "start_time": "2024-06-05T19:30:38.535257Z"
    }
   },
   "cell_type": "code",
   "source": "data['type2'].isna().sum()",
   "id": "22a18b612a54d5ad",
   "outputs": [
    {
     "data": {
      "text/plain": [
       "172"
      ]
     },
     "execution_count": 13,
     "metadata": {},
     "output_type": "execute_result"
    }
   ],
   "execution_count": 13
  },
  {
   "metadata": {
    "ExecuteTime": {
     "end_time": "2024-06-05T19:30:50.283010Z",
     "start_time": "2024-06-05T19:30:50.272002Z"
    }
   },
   "cell_type": "code",
   "source": [
    "data['type2'] = data['type2'].fillna('None')\n",
    "data['type2'].isna().sum()"
   ],
   "id": "e76845b92300c34f",
   "outputs": [
    {
     "data": {
      "text/plain": [
       "0"
      ]
     },
     "execution_count": 14,
     "metadata": {},
     "output_type": "execute_result"
    }
   ],
   "execution_count": 14
  },
  {
   "metadata": {},
   "cell_type": "markdown",
   "source": "<h4>Для классификации будем использоваться 5 самых часто встречающихся типов</h4>",
   "id": "871fbb2253fa6d7e"
  },
  {
   "metadata": {
    "ExecuteTime": {
     "end_time": "2024-06-05T19:30:52.704958Z",
     "start_time": "2024-06-05T19:30:52.683255Z"
    }
   },
   "cell_type": "code",
   "source": [
    "NUM_CLASSES = 5\n",
    "most_common = data['type2'].value_counts()[:NUM_CLASSES].keys()\n",
    "most_common = most_common.tolist()\n",
    "with open('models/type2/class_names.txt', mode='w') as f:\n",
    "    f.write(\"\\n\".join(most_common) + \"\\n\")\n",
    "print(most_common)"
   ],
   "id": "45f25148746faecd",
   "outputs": [
    {
     "name": "stdout",
     "output_type": "stream",
     "text": [
      "['None', 'flying', 'water', 'normal', 'psychic']\n"
     ]
    }
   ],
   "execution_count": 15
  },
  {
   "metadata": {
    "ExecuteTime": {
     "end_time": "2024-06-05T19:30:54.079556Z",
     "start_time": "2024-06-05T19:30:54.069011Z"
    }
   },
   "cell_type": "code",
   "source": [
    "def to_common(x):\n",
    "    if x not in most_common:\n",
    "        return most_common[np.random.randint(NUM_CLASSES)]\n",
    "    else:\n",
    "        return x\n",
    "data.type2 = data.type2.apply(lambda x: to_common(x))"
   ],
   "id": "11c93e1077e4949a",
   "outputs": [],
   "execution_count": 16
  },
  {
   "metadata": {
    "ExecuteTime": {
     "end_time": "2024-06-05T19:30:55.260265Z",
     "start_time": "2024-06-05T19:30:55.247052Z"
    }
   },
   "cell_type": "code",
   "source": "data.type2.value_counts()",
   "id": "2de0a02e28894b3b",
   "outputs": [
    {
     "data": {
      "text/plain": [
       "type2\n",
       "None       232\n",
       "flying     157\n",
       "normal     142\n",
       "psychic    136\n",
       "water      134\n",
       "Name: count, dtype: int64"
      ]
     },
     "execution_count": 17,
     "metadata": {},
     "output_type": "execute_result"
    }
   ],
   "execution_count": 17
  },
  {
   "metadata": {
    "ExecuteTime": {
     "end_time": "2024-06-05T19:30:55.931496Z",
     "start_time": "2024-06-05T19:30:55.914096Z"
    }
   },
   "cell_type": "code",
   "source": [
    "data.drop('type1', axis=1, inplace=True)\n",
    "data"
   ],
   "id": "4056ded2d51b556c",
   "outputs": [
    {
     "data": {
      "text/plain": [
       "          name    type2\n",
       "0    abomasnow    water\n",
       "1         abra  psychic\n",
       "2        absol     None\n",
       "3     accelgor     None\n",
       "4    aegislash  psychic\n",
       "..         ...      ...\n",
       "796    zoroark     None\n",
       "797      zorua     None\n",
       "798      zubat   flying\n",
       "799   zweilous   normal\n",
       "800    zygarde    water\n",
       "\n",
       "[801 rows x 2 columns]"
      ],
      "text/html": [
       "<div>\n",
       "<style scoped>\n",
       "    .dataframe tbody tr th:only-of-type {\n",
       "        vertical-align: middle;\n",
       "    }\n",
       "\n",
       "    .dataframe tbody tr th {\n",
       "        vertical-align: top;\n",
       "    }\n",
       "\n",
       "    .dataframe thead th {\n",
       "        text-align: right;\n",
       "    }\n",
       "</style>\n",
       "<table border=\"1\" class=\"dataframe\">\n",
       "  <thead>\n",
       "    <tr style=\"text-align: right;\">\n",
       "      <th></th>\n",
       "      <th>name</th>\n",
       "      <th>type2</th>\n",
       "    </tr>\n",
       "  </thead>\n",
       "  <tbody>\n",
       "    <tr>\n",
       "      <th>0</th>\n",
       "      <td>abomasnow</td>\n",
       "      <td>water</td>\n",
       "    </tr>\n",
       "    <tr>\n",
       "      <th>1</th>\n",
       "      <td>abra</td>\n",
       "      <td>psychic</td>\n",
       "    </tr>\n",
       "    <tr>\n",
       "      <th>2</th>\n",
       "      <td>absol</td>\n",
       "      <td>None</td>\n",
       "    </tr>\n",
       "    <tr>\n",
       "      <th>3</th>\n",
       "      <td>accelgor</td>\n",
       "      <td>None</td>\n",
       "    </tr>\n",
       "    <tr>\n",
       "      <th>4</th>\n",
       "      <td>aegislash</td>\n",
       "      <td>psychic</td>\n",
       "    </tr>\n",
       "    <tr>\n",
       "      <th>...</th>\n",
       "      <td>...</td>\n",
       "      <td>...</td>\n",
       "    </tr>\n",
       "    <tr>\n",
       "      <th>796</th>\n",
       "      <td>zoroark</td>\n",
       "      <td>None</td>\n",
       "    </tr>\n",
       "    <tr>\n",
       "      <th>797</th>\n",
       "      <td>zorua</td>\n",
       "      <td>None</td>\n",
       "    </tr>\n",
       "    <tr>\n",
       "      <th>798</th>\n",
       "      <td>zubat</td>\n",
       "      <td>flying</td>\n",
       "    </tr>\n",
       "    <tr>\n",
       "      <th>799</th>\n",
       "      <td>zweilous</td>\n",
       "      <td>normal</td>\n",
       "    </tr>\n",
       "    <tr>\n",
       "      <th>800</th>\n",
       "      <td>zygarde</td>\n",
       "      <td>water</td>\n",
       "    </tr>\n",
       "  </tbody>\n",
       "</table>\n",
       "<p>801 rows × 2 columns</p>\n",
       "</div>"
      ]
     },
     "execution_count": 18,
     "metadata": {},
     "output_type": "execute_result"
    }
   ],
   "execution_count": 18
  },
  {
   "metadata": {
    "ExecuteTime": {
     "end_time": "2024-06-05T19:30:57.063833Z",
     "start_time": "2024-06-05T19:30:56.800809Z"
    }
   },
   "cell_type": "code",
   "source": [
    "sns.countplot(x=data.type2, hue='type2', data=data,)\n",
    "plt.title('Вторинчые типы покемонов')\n",
    "plt.ylabel('Число изображений')"
   ],
   "id": "4808ee3c0d9a611d",
   "outputs": [
    {
     "data": {
      "text/plain": [
       "Text(0, 0.5, 'Число изображений')"
      ]
     },
     "execution_count": 19,
     "metadata": {},
     "output_type": "execute_result"
    },
    {
     "data": {
      "text/plain": [
       "<Figure size 640x480 with 1 Axes>"
      ],
      "image/png": "[encoded data removed]"
     },
     "metadata": {},
     "output_type": "display_data"
    }
   ],
   "execution_count": 19
  },
  {
   "metadata": {},
   "cell_type": "markdown",
   "source": "<h4>Создаем датасет на основе расположения изображений</h4>",
   "id": "9d23b7a776fdc3ab"
  },
  {
   "metadata": {
    "ExecuteTime": {
     "end_time": "2024-06-05T19:30:58.804550Z",
     "start_time": "2024-06-05T19:30:58.793383Z"
    }
   },
   "cell_type": "code",
   "source": [
    "path='images/'\n",
    "img_name = sorted(os.listdir(path))\n",
    "img_paths = []\n",
    "for i in img_name:\n",
    "    name = i.split('.')[0]\n",
    "    img_paths.append({'name': name, 'path': path + i})\n",
    "image_df = pd.DataFrame(img_paths)"
   ],
   "id": "59e0f013e088004c",
   "outputs": [],
   "execution_count": 20
  },
  {
   "metadata": {
    "ExecuteTime": {
     "end_time": "2024-06-05T19:31:00.206634Z",
     "start_time": "2024-06-05T19:31:00.193968Z"
    }
   },
   "cell_type": "code",
   "source": [
    "# Сопостовляем новый датасет с исходным\n",
    "data=data.merge(image_df,how='inner', on='name')"
   ],
   "id": "6cccefb0c4d61fb0",
   "outputs": [],
   "execution_count": 21
  },
  {
   "metadata": {
    "ExecuteTime": {
     "end_time": "2024-06-05T19:31:00.989839Z",
     "start_time": "2024-06-05T19:31:00.970309Z"
    }
   },
   "cell_type": "code",
   "source": "data",
   "id": "2fa40867a7849225",
   "outputs": [
    {
     "data": {
      "text/plain": [
       "           name    type2                   path\n",
       "0     abomasnow    water   images/abomasnow.png\n",
       "1          abra  psychic        images/abra.png\n",
       "2         absol     None       images/absol.png\n",
       "3      accelgor     None    images/accelgor.png\n",
       "4    aerodactyl   flying  images/aerodactyl.png\n",
       "..          ...      ...                    ...\n",
       "764   zigzagoon   normal   images/zigzagoon.png\n",
       "765     zoroark     None     images/zoroark.png\n",
       "766       zorua     None       images/zorua.png\n",
       "767       zubat   flying       images/zubat.png\n",
       "768    zweilous   normal    images/zweilous.png\n",
       "\n",
       "[769 rows x 3 columns]"
      ],
      "text/html": [
       "<div>\n",
       "<style scoped>\n",
       "    .dataframe tbody tr th:only-of-type {\n",
       "        vertical-align: middle;\n",
       "    }\n",
       "\n",
       "    .dataframe tbody tr th {\n",
       "        vertical-align: top;\n",
       "    }\n",
       "\n",
       "    .dataframe thead th {\n",
       "        text-align: right;\n",
       "    }\n",
       "</style>\n",
       "<table border=\"1\" class=\"dataframe\">\n",
       "  <thead>\n",
       "    <tr style=\"text-align: right;\">\n",
       "      <th></th>\n",
       "      <th>name</th>\n",
       "      <th>type2</th>\n",
       "      <th>path</th>\n",
       "    </tr>\n",
       "  </thead>\n",
       "  <tbody>\n",
       "    <tr>\n",
       "      <th>0</th>\n",
       "      <td>abomasnow</td>\n",
       "      <td>water</td>\n",
       "      <td>images/abomasnow.png</td>\n",
       "    </tr>\n",
       "    <tr>\n",
       "      <th>1</th>\n",
       "      <td>abra</td>\n",
       "      <td>psychic</td>\n",
       "      <td>images/abra.png</td>\n",
       "    </tr>\n",
       "    <tr>\n",
       "      <th>2</th>\n",
       "      <td>absol</td>\n",
       "      <td>None</td>\n",
       "      <td>images/absol.png</td>\n",
       "    </tr>\n",
       "    <tr>\n",
       "      <th>3</th>\n",
       "      <td>accelgor</td>\n",
       "      <td>None</td>\n",
       "      <td>images/accelgor.png</td>\n",
       "    </tr>\n",
       "    <tr>\n",
       "      <th>4</th>\n",
       "      <td>aerodactyl</td>\n",
       "      <td>flying</td>\n",
       "      <td>images/aerodactyl.png</td>\n",
       "    </tr>\n",
       "    <tr>\n",
       "      <th>...</th>\n",
       "      <td>...</td>\n",
       "      <td>...</td>\n",
       "      <td>...</td>\n",
       "    </tr>\n",
       "    <tr>\n",
       "      <th>764</th>\n",
       "      <td>zigzagoon</td>\n",
       "      <td>normal</td>\n",
       "      <td>images/zigzagoon.png</td>\n",
       "    </tr>\n",
       "    <tr>\n",
       "      <th>765</th>\n",
       "      <td>zoroark</td>\n",
       "      <td>None</td>\n",
       "      <td>images/zoroark.png</td>\n",
       "    </tr>\n",
       "    <tr>\n",
       "      <th>766</th>\n",
       "      <td>zorua</td>\n",
       "      <td>None</td>\n",
       "      <td>images/zorua.png</td>\n",
       "    </tr>\n",
       "    <tr>\n",
       "      <th>767</th>\n",
       "      <td>zubat</td>\n",
       "      <td>flying</td>\n",
       "      <td>images/zubat.png</td>\n",
       "    </tr>\n",
       "    <tr>\n",
       "      <th>768</th>\n",
       "      <td>zweilous</td>\n",
       "      <td>normal</td>\n",
       "      <td>images/zweilous.png</td>\n",
       "    </tr>\n",
       "  </tbody>\n",
       "</table>\n",
       "<p>769 rows × 3 columns</p>\n",
       "</div>"
      ]
     },
     "execution_count": 22,
     "metadata": {},
     "output_type": "execute_result"
    }
   ],
   "execution_count": 22
  },
  {
   "metadata": {},
   "cell_type": "markdown",
   "source": "<h4>Аугментируем изображения датасета с помощью генератора</h4>",
   "id": "f71ddf96fd9532e0"
  },
  {
   "metadata": {
    "ExecuteTime": {
     "end_time": "2024-06-05T19:31:03.759724Z",
     "start_time": "2024-06-05T19:31:03.686157Z"
    }
   },
   "cell_type": "code",
   "source": [
    "train_datagenerator = ImageDataGenerator(\n",
    "    featurewise_std_normalization=False,\n",
    "    samplewise_std_normalization=False,\n",
    "    rescale=1./255,\n",
    "    rotation_range=40,\n",
    "    width_shift_range=0.2,\n",
    "    height_shift_range=0.2,\n",
    "    shear_range=.2,\n",
    "    zoom_range=0.2,\n",
    "    horizontal_flip=True,\n",
    "    fill_mode='nearest',\n",
    "    validation_split=0.2)\n",
    "# Генератор из обучающего датасета\n",
    "train_generator = train_datagenerator.flow_from_dataframe(\n",
    "    data,\n",
    "    x_col='path',\n",
    "    y_col='type2',\n",
    "    target_size=(120, 120),\n",
    "    color_mode='rgba',\n",
    "    classes=most_common,\n",
    "    class_mode='categorical',\n",
    "    batch_size=32,\n",
    "    shuffle=True,\n",
    "    seed=1,\n",
    "    subset='training')\n",
    "# Генератор из тренировочного датасета\n",
    "validation_generator = train_datagenerator.flow_from_dataframe(\n",
    "    data ,\n",
    "    x_col='path',\n",
    "    y_col='type2',\n",
    "    target_size=(120, 120),\n",
    "    color_mode='rgba',\n",
    "    classes=most_common,\n",
    "    class_mode='categorical',\n",
    "    batch_size=4,\n",
    "    shuffle=True,\n",
    "    seed=1,\n",
    "    subset='validation'\n",
    ")"
   ],
   "id": "63e8c5829569694",
   "outputs": [
    {
     "name": "stdout",
     "output_type": "stream",
     "text": [
      "Found 616 validated image filenames belonging to 5 classes.\n",
      "Found 153 validated image filenames belonging to 5 classes.\n"
     ]
    }
   ],
   "execution_count": 23
  },
  {
   "metadata": {},
   "cell_type": "markdown",
   "source": "<h4>Модель сверточной сети: <u>D + (CV + MP)^3 + DO + F + D + S</u></h4>",
   "id": "ec9577bc433b104b"
  },
  {
   "metadata": {
    "ExecuteTime": {
     "end_time": "2024-06-05T19:31:05.731606Z",
     "start_time": "2024-06-05T19:31:05.421335Z"
    }
   },
   "cell_type": "code",
   "source": [
    "model = ks.models.Sequential()\n",
    "model.add(ks.layers.Dense(4, input_shape=(120, 120, 4)))\n",
    "\n",
    "model.add(ks.layers.Conv2D(64, (3, 3), activation='relu'))\n",
    "model.add(ks.layers.MaxPooling2D(2, 2))\n",
    "\n",
    "model.add(ks.layers.Conv2D(128, (3, 3), activation='relu'))\n",
    "model.add(ks.layers.MaxPooling2D(2, 2))\n",
    "\n",
    "model.add(ks.layers.Conv2D(256, (3, 3), activation='relu'))\n",
    "model.add(ks.layers.MaxPooling2D(2, 2))\n",
    "\n",
    "model.add(ks.layers.Conv2D(512, (3, 3), activation='relu'))\n",
    "model.add(ks.layers.MaxPooling2D(2, 2))\n",
    "model.add(ks.layers.Dropout(0.2))\n",
    "\n",
    "model.add(ks.layers.Flatten())\n",
    "\n",
    "model.add(ks.layers.Dense(1024, activation='relu'))\n",
    "\n",
    "model.add(ks.layers.Dense(NUM_CLASSES, activation='softmax'))"
   ],
   "id": "45b67ff5c0691f00",
   "outputs": [],
   "execution_count": 24
  },
  {
   "metadata": {
    "ExecuteTime": {
     "end_time": "2024-06-05T19:31:06.740036Z",
     "start_time": "2024-06-05T19:31:06.684287Z"
    }
   },
   "cell_type": "code",
   "source": [
    "model.compile(optimizer='adam',\n",
    "            loss='categorical_crossentropy',\n",
    "            metrics=['accuracy'])\n",
    "model.summary()"
   ],
   "id": "e106c28ac1867894",
   "outputs": [
    {
     "data": {
      "text/plain": [
       "\u001B[1mModel: \"sequential\"\u001B[0m\n"
      ],
      "text/html": [
       "<pre style=\"white-space:pre;overflow-x:auto;line-height:normal;font-family:Menlo,'DejaVu Sans Mono',consolas,'Courier New',monospace\"><span style=\"font-weight: bold\">Model: \"sequential\"</span>\n",
       "</pre>\n"
      ]
     },
     "metadata": {},
     "output_type": "display_data"
    },
    {
     "data": {
      "text/plain": [
       "┏━━━━━━━━━━━━━━━━━━━━━━━━━━━━━━━━━┳━━━━━━━━━━━━━━━━━━━━━━━━┳━━━━━━━━━━━━━━━┓\n",
       "┃\u001B[1m \u001B[0m\u001B[1mLayer (type)                   \u001B[0m\u001B[1m \u001B[0m┃\u001B[1m \u001B[0m\u001B[1mOutput Shape          \u001B[0m\u001B[1m \u001B[0m┃\u001B[1m \u001B[0m\u001B[1m      Param #\u001B[0m\u001B[1m \u001B[0m┃\n",
       "┡━━━━━━━━━━━━━━━━━━━━━━━━━━━━━━━━━╇━━━━━━━━━━━━━━━━━━━━━━━━╇━━━━━━━━━━━━━━━┩\n",
       "│ dense (\u001B[38;5;33mDense\u001B[0m)                   │ (\u001B[38;5;45mNone\u001B[0m, \u001B[38;5;34m120\u001B[0m, \u001B[38;5;34m120\u001B[0m, \u001B[38;5;34m4\u001B[0m)    │            \u001B[38;5;34m20\u001B[0m │\n",
       "├─────────────────────────────────┼────────────────────────┼───────────────┤\n",
       "│ conv2d (\u001B[38;5;33mConv2D\u001B[0m)                 │ (\u001B[38;5;45mNone\u001B[0m, \u001B[38;5;34m118\u001B[0m, \u001B[38;5;34m118\u001B[0m, \u001B[38;5;34m64\u001B[0m)   │         \u001B[38;5;34m2,368\u001B[0m │\n",
       "├─────────────────────────────────┼────────────────────────┼───────────────┤\n",
       "│ max_pooling2d (\u001B[38;5;33mMaxPooling2D\u001B[0m)    │ (\u001B[38;5;45mNone\u001B[0m, \u001B[38;5;34m59\u001B[0m, \u001B[38;5;34m59\u001B[0m, \u001B[38;5;34m64\u001B[0m)     │             \u001B[38;5;34m0\u001B[0m │\n",
       "├─────────────────────────────────┼────────────────────────┼───────────────┤\n",
       "│ conv2d_1 (\u001B[38;5;33mConv2D\u001B[0m)               │ (\u001B[38;5;45mNone\u001B[0m, \u001B[38;5;34m57\u001B[0m, \u001B[38;5;34m57\u001B[0m, \u001B[38;5;34m128\u001B[0m)    │        \u001B[38;5;34m73,856\u001B[0m │\n",
       "├─────────────────────────────────┼────────────────────────┼───────────────┤\n",
       "│ max_pooling2d_1 (\u001B[38;5;33mMaxPooling2D\u001B[0m)  │ (\u001B[38;5;45mNone\u001B[0m, \u001B[38;5;34m28\u001B[0m, \u001B[38;5;34m28\u001B[0m, \u001B[38;5;34m128\u001B[0m)    │             \u001B[38;5;34m0\u001B[0m │\n",
       "├─────────────────────────────────┼────────────────────────┼───────────────┤\n",
       "│ conv2d_2 (\u001B[38;5;33mConv2D\u001B[0m)               │ (\u001B[38;5;45mNone\u001B[0m, \u001B[38;5;34m26\u001B[0m, \u001B[38;5;34m26\u001B[0m, \u001B[38;5;34m256\u001B[0m)    │       \u001B[38;5;34m295,168\u001B[0m │\n",
       "├─────────────────────────────────┼────────────────────────┼───────────────┤\n",
       "│ max_pooling2d_2 (\u001B[38;5;33mMaxPooling2D\u001B[0m)  │ (\u001B[38;5;45mNone\u001B[0m, \u001B[38;5;34m13\u001B[0m, \u001B[38;5;34m13\u001B[0m, \u001B[38;5;34m256\u001B[0m)    │             \u001B[38;5;34m0\u001B[0m │\n",
       "├─────────────────────────────────┼────────────────────────┼───────────────┤\n",
       "│ conv2d_3 (\u001B[38;5;33mConv2D\u001B[0m)               │ (\u001B[38;5;45mNone\u001B[0m, \u001B[38;5;34m11\u001B[0m, \u001B[38;5;34m11\u001B[0m, \u001B[38;5;34m512\u001B[0m)    │     \u001B[38;5;34m1,180,160\u001B[0m │\n",
       "├─────────────────────────────────┼────────────────────────┼───────────────┤\n",
       "│ max_pooling2d_3 (\u001B[38;5;33mMaxPooling2D\u001B[0m)  │ (\u001B[38;5;45mNone\u001B[0m, \u001B[38;5;34m5\u001B[0m, \u001B[38;5;34m5\u001B[0m, \u001B[38;5;34m512\u001B[0m)      │             \u001B[38;5;34m0\u001B[0m │\n",
       "├─────────────────────────────────┼────────────────────────┼───────────────┤\n",
       "│ dropout (\u001B[38;5;33mDropout\u001B[0m)               │ (\u001B[38;5;45mNone\u001B[0m, \u001B[38;5;34m5\u001B[0m, \u001B[38;5;34m5\u001B[0m, \u001B[38;5;34m512\u001B[0m)      │             \u001B[38;5;34m0\u001B[0m │\n",
       "├─────────────────────────────────┼────────────────────────┼───────────────┤\n",
       "│ flatten (\u001B[38;5;33mFlatten\u001B[0m)               │ (\u001B[38;5;45mNone\u001B[0m, \u001B[38;5;34m12800\u001B[0m)          │             \u001B[38;5;34m0\u001B[0m │\n",
       "├─────────────────────────────────┼────────────────────────┼───────────────┤\n",
       "│ dense_1 (\u001B[38;5;33mDense\u001B[0m)                 │ (\u001B[38;5;45mNone\u001B[0m, \u001B[38;5;34m1024\u001B[0m)           │    \u001B[38;5;34m13,108,224\u001B[0m │\n",
       "├─────────────────────────────────┼────────────────────────┼───────────────┤\n",
       "│ dense_2 (\u001B[38;5;33mDense\u001B[0m)                 │ (\u001B[38;5;45mNone\u001B[0m, \u001B[38;5;34m5\u001B[0m)              │         \u001B[38;5;34m5,125\u001B[0m │\n",
       "└─────────────────────────────────┴────────────────────────┴───────────────┘\n"
      ],
      "text/html": [
       "<pre style=\"white-space:pre;overflow-x:auto;line-height:normal;font-family:Menlo,'DejaVu Sans Mono',consolas,'Courier New',monospace\">┏━━━━━━━━━━━━━━━━━━━━━━━━━━━━━━━━━┳━━━━━━━━━━━━━━━━━━━━━━━━┳━━━━━━━━━━━━━━━┓\n",
       "┃<span style=\"font-weight: bold\"> Layer (type)                    </span>┃<span style=\"font-weight: bold\"> Output Shape           </span>┃<span style=\"font-weight: bold\">       Param # </span>┃\n",
       "┡━━━━━━━━━━━━━━━━━━━━━━━━━━━━━━━━━╇━━━━━━━━━━━━━━━━━━━━━━━━╇━━━━━━━━━━━━━━━┩\n",
       "│ dense (<span style=\"color: #0087ff; text-decoration-color: #0087ff\">Dense</span>)                   │ (<span style=\"color: #00d7ff; text-decoration-color: #00d7ff\">None</span>, <span style=\"color: #00af00; text-decoration-color: #00af00\">120</span>, <span style=\"color: #00af00; text-decoration-color: #00af00\">120</span>, <span style=\"color: #00af00; text-decoration-color: #00af00\">4</span>)    │            <span style=\"color: #00af00; text-decoration-color: #00af00\">20</span> │\n",
       "├─────────────────────────────────┼────────────────────────┼───────────────┤\n",
       "│ conv2d (<span style=\"color: #0087ff; text-decoration-color: #0087ff\">Conv2D</span>)                 │ (<span style=\"color: #00d7ff; text-decoration-color: #00d7ff\">None</span>, <span style=\"color: #00af00; text-decoration-color: #00af00\">118</span>, <span style=\"color: #00af00; text-decoration-color: #00af00\">118</span>, <span style=\"color: #00af00; text-decoration-color: #00af00\">64</span>)   │         <span style=\"color: #00af00; text-decoration-color: #00af00\">2,368</span> │\n",
       "├─────────────────────────────────┼────────────────────────┼───────────────┤\n",
       "│ max_pooling2d (<span style=\"color: #0087ff; text-decoration-color: #0087ff\">MaxPooling2D</span>)    │ (<span style=\"color: #00d7ff; text-decoration-color: #00d7ff\">None</span>, <span style=\"color: #00af00; text-decoration-color: #00af00\">59</span>, <span style=\"color: #00af00; text-decoration-color: #00af00\">59</span>, <span style=\"color: #00af00; text-decoration-color: #00af00\">64</span>)     │             <span style=\"color: #00af00; text-decoration-color: #00af00\">0</span> │\n",
       "├─────────────────────────────────┼────────────────────────┼───────────────┤\n",
       "│ conv2d_1 (<span style=\"color: #0087ff; text-decoration-color: #0087ff\">Conv2D</span>)               │ (<span style=\"color: #00d7ff; text-decoration-color: #00d7ff\">None</span>, <span style=\"color: #00af00; text-decoration-color: #00af00\">57</span>, <span style=\"color: #00af00; text-decoration-color: #00af00\">57</span>, <span style=\"color: #00af00; text-decoration-color: #00af00\">128</span>)    │        <span style=\"color: #00af00; text-decoration-color: #00af00\">73,856</span> │\n",
       "├─────────────────────────────────┼────────────────────────┼───────────────┤\n",
       "│ max_pooling2d_1 (<span style=\"color: #0087ff; text-decoration-color: #0087ff\">MaxPooling2D</span>)  │ (<span style=\"color: #00d7ff; text-decoration-color: #00d7ff\">None</span>, <span style=\"color: #00af00; text-decoration-color: #00af00\">28</span>, <span style=\"color: #00af00; text-decoration-color: #00af00\">28</span>, <span style=\"color: #00af00; text-decoration-color: #00af00\">128</span>)    │             <span style=\"color: #00af00; text-decoration-color: #00af00\">0</span> │\n",
       "├─────────────────────────────────┼────────────────────────┼───────────────┤\n",
       "│ conv2d_2 (<span style=\"color: #0087ff; text-decoration-color: #0087ff\">Conv2D</span>)               │ (<span style=\"color: #00d7ff; text-decoration-color: #00d7ff\">None</span>, <span style=\"color: #00af00; text-decoration-color: #00af00\">26</span>, <span style=\"color: #00af00; text-decoration-color: #00af00\">26</span>, <span style=\"color: #00af00; text-decoration-color: #00af00\">256</span>)    │       <span style=\"color: #00af00; text-decoration-color: #00af00\">295,168</span> │\n",
       "├─────────────────────────────────┼────────────────────────┼───────────────┤\n",
       "│ max_pooling2d_2 (<span style=\"color: #0087ff; text-decoration-color: #0087ff\">MaxPooling2D</span>)  │ (<span style=\"color: #00d7ff; text-decoration-color: #00d7ff\">None</span>, <span style=\"color: #00af00; text-decoration-color: #00af00\">13</span>, <span style=\"color: #00af00; text-decoration-color: #00af00\">13</span>, <span style=\"color: #00af00; text-decoration-color: #00af00\">256</span>)    │             <span style=\"color: #00af00; text-decoration-color: #00af00\">0</span> │\n",
       "├─────────────────────────────────┼────────────────────────┼───────────────┤\n",
       "│ conv2d_3 (<span style=\"color: #0087ff; text-decoration-color: #0087ff\">Conv2D</span>)               │ (<span style=\"color: #00d7ff; text-decoration-color: #00d7ff\">None</span>, <span style=\"color: #00af00; text-decoration-color: #00af00\">11</span>, <span style=\"color: #00af00; text-decoration-color: #00af00\">11</span>, <span style=\"color: #00af00; text-decoration-color: #00af00\">512</span>)    │     <span style=\"color: #00af00; text-decoration-color: #00af00\">1,180,160</span> │\n",
       "├─────────────────────────────────┼────────────────────────┼───────────────┤\n",
       "│ max_pooling2d_3 (<span style=\"color: #0087ff; text-decoration-color: #0087ff\">MaxPooling2D</span>)  │ (<span style=\"color: #00d7ff; text-decoration-color: #00d7ff\">None</span>, <span style=\"color: #00af00; text-decoration-color: #00af00\">5</span>, <span style=\"color: #00af00; text-decoration-color: #00af00\">5</span>, <span style=\"color: #00af00; text-decoration-color: #00af00\">512</span>)      │             <span style=\"color: #00af00; text-decoration-color: #00af00\">0</span> │\n",
       "├─────────────────────────────────┼────────────────────────┼───────────────┤\n",
       "│ dropout (<span style=\"color: #0087ff; text-decoration-color: #0087ff\">Dropout</span>)               │ (<span style=\"color: #00d7ff; text-decoration-color: #00d7ff\">None</span>, <span style=\"color: #00af00; text-decoration-color: #00af00\">5</span>, <span style=\"color: #00af00; text-decoration-color: #00af00\">5</span>, <span style=\"color: #00af00; text-decoration-color: #00af00\">512</span>)      │             <span style=\"color: #00af00; text-decoration-color: #00af00\">0</span> │\n",
       "├─────────────────────────────────┼────────────────────────┼───────────────┤\n",
       "│ flatten (<span style=\"color: #0087ff; text-decoration-color: #0087ff\">Flatten</span>)               │ (<span style=\"color: #00d7ff; text-decoration-color: #00d7ff\">None</span>, <span style=\"color: #00af00; text-decoration-color: #00af00\">12800</span>)          │             <span style=\"color: #00af00; text-decoration-color: #00af00\">0</span> │\n",
       "├─────────────────────────────────┼────────────────────────┼───────────────┤\n",
       "│ dense_1 (<span style=\"color: #0087ff; text-decoration-color: #0087ff\">Dense</span>)                 │ (<span style=\"color: #00d7ff; text-decoration-color: #00d7ff\">None</span>, <span style=\"color: #00af00; text-decoration-color: #00af00\">1024</span>)           │    <span style=\"color: #00af00; text-decoration-color: #00af00\">13,108,224</span> │\n",
       "├─────────────────────────────────┼────────────────────────┼───────────────┤\n",
       "│ dense_2 (<span style=\"color: #0087ff; text-decoration-color: #0087ff\">Dense</span>)                 │ (<span style=\"color: #00d7ff; text-decoration-color: #00d7ff\">None</span>, <span style=\"color: #00af00; text-decoration-color: #00af00\">5</span>)              │         <span style=\"color: #00af00; text-decoration-color: #00af00\">5,125</span> │\n",
       "└─────────────────────────────────┴────────────────────────┴───────────────┘\n",
       "</pre>\n"
      ]
     },
     "metadata": {},
     "output_type": "display_data"
    },
    {
     "data": {
      "text/plain": [
       "\u001B[1m Total params: \u001B[0m\u001B[38;5;34m14,664,921\u001B[0m (55.94 MB)\n"
      ],
      "text/html": [
       "<pre style=\"white-space:pre;overflow-x:auto;line-height:normal;font-family:Menlo,'DejaVu Sans Mono',consolas,'Courier New',monospace\"><span style=\"font-weight: bold\"> Total params: </span><span style=\"color: #00af00; text-decoration-color: #00af00\">14,664,921</span> (55.94 MB)\n",
       "</pre>\n"
      ]
     },
     "metadata": {},
     "output_type": "display_data"
    },
    {
     "data": {
      "text/plain": [
       "\u001B[1m Trainable params: \u001B[0m\u001B[38;5;34m14,664,921\u001B[0m (55.94 MB)\n"
      ],
      "text/html": [
       "<pre style=\"white-space:pre;overflow-x:auto;line-height:normal;font-family:Menlo,'DejaVu Sans Mono',consolas,'Courier New',monospace\"><span style=\"font-weight: bold\"> Trainable params: </span><span style=\"color: #00af00; text-decoration-color: #00af00\">14,664,921</span> (55.94 MB)\n",
       "</pre>\n"
      ]
     },
     "metadata": {},
     "output_type": "display_data"
    },
    {
     "data": {
      "text/plain": [
       "\u001B[1m Non-trainable params: \u001B[0m\u001B[38;5;34m0\u001B[0m (0.00 B)\n"
      ],
      "text/html": [
       "<pre style=\"white-space:pre;overflow-x:auto;line-height:normal;font-family:Menlo,'DejaVu Sans Mono',consolas,'Courier New',monospace\"><span style=\"font-weight: bold\"> Non-trainable params: </span><span style=\"color: #00af00; text-decoration-color: #00af00\">0</span> (0.00 B)\n",
       "</pre>\n"
      ]
     },
     "metadata": {},
     "output_type": "display_data"
    }
   ],
   "execution_count": 25
  },
  {
   "metadata": {},
   "cell_type": "markdown",
   "source": "<h4>Обучаем модель на 50 эпохах</h4>",
   "id": "da2871fcdcdbf5cd"
  },
  {
   "metadata": {
    "ExecuteTime": {
     "end_time": "2024-06-02T12:40:26.107503Z",
     "start_time": "2024-06-02T12:26:32.509801Z"
    }
   },
   "cell_type": "code",
   "source": [
    "EPOCHS = 50\n",
    "history = model.fit(\n",
    "    train_generator,\n",
    "    epochs=EPOCHS,\n",
    "    validation_data=validation_generator\n",
    ")"
   ],
   "id": "802ac953d34b704b",
   "execution_count": 111,
   "outputs": []
  },
  {
   "metadata": {},
   "cell_type": "markdown",
   "source": "<h4>Сохраняем модель и график точности</h4>",
   "id": "8653222b74f45743"
  },
  {
   "metadata": {
    "ExecuteTime": {
     "end_time": "2024-06-02T12:49:17.731409Z",
     "start_time": "2024-06-02T12:49:17.252859Z"
    }
   },
   "cell_type": "code",
   "source": "model.save('models/type2/best/model.h5')",
   "id": "a225ddc7760f5564",
   "execution_count": 116,
   "outputs": []
  },
  {
   "metadata": {
    "ExecuteTime": {
     "end_time": "2024-06-02T12:50:52.164756Z",
     "start_time": "2024-06-02T12:50:51.023256Z"
    }
   },
   "cell_type": "code",
   "source": [
    "plt.plot(history.history['accuracy'])\n",
    "plt.plot(history.history['val_accuracy'])\n",
    "plt.title('Model accuracy')\n",
    "plt.xlabel('Epoch')\n",
    "plt.ylabel('accuracy')\n",
    "plt.legend(['train', 'test'])\n",
    "plt.savefig('models/type2/best/accuracy.png')"
   ],
   "id": "3f7269ab84863c94",
   "execution_count": 117,
   "outputs": []
  },
  {
   "metadata": {},
   "cell_type": "markdown",
   "source": "<h4>Проверяем модель на изображении покемона</h4>",
   "id": "e4f6c17e70409171"
  },
  {
   "metadata": {
    "ExecuteTime": {
     "end_time": "2024-06-02T12:51:35.091225Z",
     "start_time": "2024-06-02T12:51:35.083724Z"
    }
   },
   "cell_type": "code",
   "source": [
    "import matplotlib.image as mpimg\n",
    "def predict(model, image_path):\n",
    "    image = mpimg.imread(image_path)\n",
    "    image = np.expand_dims(image, axis=0)\n",
    "    return model.predict(image)"
   ],
   "id": "da44968afba40a3e",
   "execution_count": 118,
   "outputs": []
  },
  {
   "metadata": {
    "ExecuteTime": {
     "end_time": "2024-06-02T12:51:35.721851Z",
     "start_time": "2024-06-02T12:51:35.712426Z"
    }
   },
   "cell_type": "code",
   "source": [
    "class_names = most_common\n",
    "def predict_type1(model, img_path):\n",
    "    label = img_path.split('/')[-1].split('.')[0]\n",
    "    prediction = predict(model, img_path)[0]\n",
    "    result = {class_names[i]: prediction[i] for i in range(len(prediction))}\n",
    "    print(f'{label} тип 2: {result}')"
   ],
   "id": "d923f2f9ff8236a6",
   "execution_count": 119,
   "outputs": []
  },
  {
   "metadata": {
    "ExecuteTime": {
     "end_time": "2024-06-02T12:51:43.313021Z",
     "start_time": "2024-06-02T12:51:42.404873Z"
    }
   },
   "cell_type": "code",
   "source": "predict_type1(model, 'images/aipom.png')",
   "id": "9f76e31442a190cc",
   "execution_count": 121,
   "outputs": []
  }
 ],
 "metadata": {
  "kernelspec": {
   "display_name": "Python 3",
   "language": "python",
   "name": "python3"
  },
  "language_info": {
   "codemirror_mode": {
    "name": "ipython",
    "version": 2
   },
   "file_extension": ".py",
   "mimetype": "text/x-python",
   "name": "python",
   "nbconvert_exporter": "python",
   "pygments_lexer": "ipython2",
   "version": "2.7.6"
  }
 },
 "nbformat": 4,
 "nbformat_minor": 5
}
