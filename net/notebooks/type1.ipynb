{
 "cells": [
  {
   "metadata": {},
   "cell_type": "markdown",
   "source": "<h2>Классификация типа 1</h2>",
   "id": "a01d7405b7e5b50e"
  },
  {
   "metadata": {
    "ExecuteTime": {
     "end_time": "2024-06-05T19:20:22.050768Z",
     "start_time": "2024-06-05T19:20:17.195280Z"
    }
   },
   "cell_type": "code",
   "source": [
    "import tensorflow as tf\n",
    "from tensorflow import keras as ks\n",
    "import pandas as pd\n",
    "import numpy as np\n",
    "import matplotlib.pyplot as plt\n",
    "import matplotlib.style as stl\n",
    "stl.use(\"ggplot\")\n",
    "import seaborn as sns\n",
    "import os\n",
    "import warnings\n",
    "warnings.filterwarnings('ignore')"
   ],
   "id": "981332d16a707546",
   "outputs": [],
   "execution_count": 1
  },
  {
   "metadata": {
    "ExecuteTime": {
     "end_time": "2024-06-05T19:29:22.165638Z",
     "start_time": "2024-06-05T19:29:22.155393Z"
    }
   },
   "cell_type": "code",
   "source": "from tensorflow.keras.preprocessing.image import ImageDataGenerator",
   "id": "3f185708f71e13f3",
   "outputs": [],
   "execution_count": 2
  },
  {
   "metadata": {
    "ExecuteTime": {
     "end_time": "2024-06-05T19:29:23.405976Z",
     "start_time": "2024-06-05T19:29:23.395548Z"
    }
   },
   "cell_type": "code",
   "source": "os.getcwd()",
   "id": "6c1d66351d7925b1",
   "outputs": [
    {
     "data": {
      "text/plain": [
       "'D:\\\\DSTU\\\\практика ИИ\\\\PokemonNet\\\\net\\\\notebooks'"
      ]
     },
     "execution_count": 3,
     "metadata": {},
     "output_type": "execute_result"
    }
   ],
   "execution_count": 3
  },
  {
   "metadata": {
    "ExecuteTime": {
     "end_time": "2024-06-05T19:29:25.189406Z",
     "start_time": "2024-06-05T19:29:25.183086Z"
    }
   },
   "cell_type": "code",
   "source": "os.chdir('..')",
   "id": "791ae5a1904ad1ac",
   "outputs": [],
   "execution_count": 4
  },
  {
   "metadata": {},
   "cell_type": "markdown",
   "source": "<h3>Чистка датасета</h3>",
   "id": "11f04f022ee17e6a"
  },
  {
   "metadata": {
    "ExecuteTime": {
     "end_time": "2024-06-05T19:29:28.641673Z",
     "start_time": "2024-06-05T19:29:28.617029Z"
    }
   },
   "cell_type": "code",
   "source": [
    "data = pd.read_csv('datasets/pokemon.csv')\n",
    "data.shape"
   ],
   "id": "af0dc68d7042efb8",
   "outputs": [
    {
     "data": {
      "text/plain": [
       "(801, 41)"
      ]
     },
     "execution_count": 5,
     "metadata": {},
     "output_type": "execute_result"
    }
   ],
   "execution_count": 5
  },
  {
   "metadata": {
    "ExecuteTime": {
     "end_time": "2024-06-05T19:29:30.104913Z",
     "start_time": "2024-06-05T19:29:30.096879Z"
    }
   },
   "cell_type": "code",
   "source": [
    "data = data[[\"name\",\"type1\"]]\n",
    "data = data.sort_values(by=['name'], ascending=True).reset_index(drop=True)"
   ],
   "id": "7a8111bcc300e511",
   "outputs": [],
   "execution_count": 6
  },
  {
   "metadata": {
    "ExecuteTime": {
     "end_time": "2024-06-05T19:29:31.282969Z",
     "start_time": "2024-06-05T19:29:31.275823Z"
    }
   },
   "cell_type": "code",
   "source": "data['name'] = data['name'].str.lower()",
   "id": "acfe51439926109a",
   "outputs": [],
   "execution_count": 7
  },
  {
   "metadata": {
    "ExecuteTime": {
     "end_time": "2024-06-05T19:29:33.107851Z",
     "start_time": "2024-06-05T19:29:33.091720Z"
    }
   },
   "cell_type": "code",
   "source": "data",
   "id": "b1b0f600ef3775fa",
   "outputs": [
    {
     "data": {
      "text/plain": [
       "          name    type1\n",
       "0    abomasnow    grass\n",
       "1         abra  psychic\n",
       "2        absol     dark\n",
       "3     accelgor      bug\n",
       "4    aegislash    steel\n",
       "..         ...      ...\n",
       "796    zoroark     dark\n",
       "797      zorua     dark\n",
       "798      zubat   poison\n",
       "799   zweilous     dark\n",
       "800    zygarde   dragon\n",
       "\n",
       "[801 rows x 2 columns]"
      ],
      "text/html": [
       "<div>\n",
       "<style scoped>\n",
       "    .dataframe tbody tr th:only-of-type {\n",
       "        vertical-align: middle;\n",
       "    }\n",
       "\n",
       "    .dataframe tbody tr th {\n",
       "        vertical-align: top;\n",
       "    }\n",
       "\n",
       "    .dataframe thead th {\n",
       "        text-align: right;\n",
       "    }\n",
       "</style>\n",
       "<table border=\"1\" class=\"dataframe\">\n",
       "  <thead>\n",
       "    <tr style=\"text-align: right;\">\n",
       "      <th></th>\n",
       "      <th>name</th>\n",
       "      <th>type1</th>\n",
       "    </tr>\n",
       "  </thead>\n",
       "  <tbody>\n",
       "    <tr>\n",
       "      <th>0</th>\n",
       "      <td>abomasnow</td>\n",
       "      <td>grass</td>\n",
       "    </tr>\n",
       "    <tr>\n",
       "      <th>1</th>\n",
       "      <td>abra</td>\n",
       "      <td>psychic</td>\n",
       "    </tr>\n",
       "    <tr>\n",
       "      <th>2</th>\n",
       "      <td>absol</td>\n",
       "      <td>dark</td>\n",
       "    </tr>\n",
       "    <tr>\n",
       "      <th>3</th>\n",
       "      <td>accelgor</td>\n",
       "      <td>bug</td>\n",
       "    </tr>\n",
       "    <tr>\n",
       "      <th>4</th>\n",
       "      <td>aegislash</td>\n",
       "      <td>steel</td>\n",
       "    </tr>\n",
       "    <tr>\n",
       "      <th>...</th>\n",
       "      <td>...</td>\n",
       "      <td>...</td>\n",
       "    </tr>\n",
       "    <tr>\n",
       "      <th>796</th>\n",
       "      <td>zoroark</td>\n",
       "      <td>dark</td>\n",
       "    </tr>\n",
       "    <tr>\n",
       "      <th>797</th>\n",
       "      <td>zorua</td>\n",
       "      <td>dark</td>\n",
       "    </tr>\n",
       "    <tr>\n",
       "      <th>798</th>\n",
       "      <td>zubat</td>\n",
       "      <td>poison</td>\n",
       "    </tr>\n",
       "    <tr>\n",
       "      <th>799</th>\n",
       "      <td>zweilous</td>\n",
       "      <td>dark</td>\n",
       "    </tr>\n",
       "    <tr>\n",
       "      <th>800</th>\n",
       "      <td>zygarde</td>\n",
       "      <td>dragon</td>\n",
       "    </tr>\n",
       "  </tbody>\n",
       "</table>\n",
       "<p>801 rows × 2 columns</p>\n",
       "</div>"
      ]
     },
     "execution_count": 8,
     "metadata": {},
     "output_type": "execute_result"
    }
   ],
   "execution_count": 8
  },
  {
   "metadata": {
    "ExecuteTime": {
     "end_time": "2024-06-05T19:29:34.606312Z",
     "start_time": "2024-06-05T19:29:34.598867Z"
    }
   },
   "cell_type": "code",
   "source": "data.type1.isna().sum()",
   "id": "c27f20eadc226665",
   "outputs": [
    {
     "data": {
      "text/plain": [
       "0"
      ]
     },
     "execution_count": 9,
     "metadata": {},
     "output_type": "execute_result"
    }
   ],
   "execution_count": 9
  },
  {
   "metadata": {
    "ExecuteTime": {
     "end_time": "2024-06-05T19:29:36.116568Z",
     "start_time": "2024-06-05T19:29:36.106013Z"
    }
   },
   "cell_type": "code",
   "source": "data.type1.value_counts()[:5]",
   "id": "91906e73b5b20b46",
   "outputs": [
    {
     "data": {
      "text/plain": [
       "type1\n",
       "water      114\n",
       "normal     105\n",
       "grass       78\n",
       "bug         72\n",
       "psychic     53\n",
       "Name: count, dtype: int64"
      ]
     },
     "execution_count": 10,
     "metadata": {},
     "output_type": "execute_result"
    }
   ],
   "execution_count": 10
  },
  {
   "metadata": {},
   "cell_type": "markdown",
   "source": "<h4>Для классификации будем использоваться 5 самых часто встречающихся типов</h4>",
   "id": "bac4fe6b608d8a74"
  },
  {
   "metadata": {
    "ExecuteTime": {
     "end_time": "2024-06-05T19:29:38.704287Z",
     "start_time": "2024-06-05T19:29:38.694522Z"
    }
   },
   "cell_type": "code",
   "source": [
    "NUM_CLASSES = 5\n",
    "most_common = data['type1'].value_counts()[:NUM_CLASSES].keys()\n",
    "most_common = most_common.tolist()\n",
    "with open('models/type1/class_names.txt', mode='w') as f:\n",
    "    f.write(\"\\n\".join(most_common) + \"\\n\")\n",
    "print(most_common)"
   ],
   "id": "930198cb3d691556",
   "outputs": [
    {
     "name": "stdout",
     "output_type": "stream",
     "text": [
      "['water', 'normal', 'grass', 'bug', 'psychic']\n"
     ]
    }
   ],
   "execution_count": 11
  },
  {
   "metadata": {
    "ExecuteTime": {
     "end_time": "2024-06-05T19:29:40.411167Z",
     "start_time": "2024-06-05T19:29:40.401253Z"
    }
   },
   "cell_type": "code",
   "source": [
    "def to_common(x):\n",
    "    if x not in most_common:\n",
    "        return most_common[np.random.randint(NUM_CLASSES)]\n",
    "    else:\n",
    "        return x\n",
    "data.type1 = data.type1.apply(lambda x: to_common(x))"
   ],
   "id": "4c2bd18a0e528134",
   "outputs": [],
   "execution_count": 12
  },
  {
   "metadata": {
    "ExecuteTime": {
     "end_time": "2024-06-05T19:29:44.375486Z",
     "start_time": "2024-06-05T19:29:44.097274Z"
    }
   },
   "cell_type": "code",
   "source": [
    "sns.countplot(x=data.type1, hue='type1', data=data,)\n",
    "plt.title('Первичные типы покемонов')\n",
    "plt.ylabel('Число изображений')"
   ],
   "id": "dcc3617d5c7d1b0b",
   "outputs": [
    {
     "data": {
      "text/plain": [
       "Text(0, 0.5, 'Число изображений')"
      ]
     },
     "execution_count": 13,
     "metadata": {},
     "output_type": "execute_result"
    },
    {
     "data": {
      "text/plain": [
       "<Figure size 640x480 with 1 Axes>"
      ],
      "image/png": "[encoded data removed]"
     },
     "metadata": {},
     "output_type": "display_data"
    }
   ],
   "execution_count": 13
  },
  {
   "metadata": {},
   "cell_type": "markdown",
   "source": "<h4>Создаем датасет на основе расположения изображений</h4>",
   "id": "461aed46ca2b0264"
  },
  {
   "metadata": {
    "ExecuteTime": {
     "end_time": "2024-06-05T19:29:46.379564Z",
     "start_time": "2024-06-05T19:29:46.366478Z"
    }
   },
   "cell_type": "code",
   "source": [
    "path=os.path.join('images/')\n",
    "img_name = sorted(os.listdir(path))\n",
    "img_paths = []\n",
    "for i in img_name:\n",
    "    name = i.split('.')[0]\n",
    "    img_paths.append({'name': name, 'path': path + i})\n",
    "image_df = pd.DataFrame(img_paths)"
   ],
   "id": "fda0dbaac5fb8dd3",
   "outputs": [],
   "execution_count": 14
  },
  {
   "metadata": {
    "ExecuteTime": {
     "end_time": "2024-06-05T19:29:48.393813Z",
     "start_time": "2024-06-05T19:29:48.382888Z"
    }
   },
   "cell_type": "code",
   "source": [
    "# Сопостовляем новый датасет с исходным\n",
    "data=data.merge(image_df,how='inner', on='name')"
   ],
   "id": "d48efca55cf6a982",
   "outputs": [],
   "execution_count": 15
  },
  {
   "metadata": {
    "ExecuteTime": {
     "end_time": "2024-06-05T19:29:49.238429Z",
     "start_time": "2024-06-05T19:29:49.226760Z"
    }
   },
   "cell_type": "code",
   "source": "data",
   "id": "8f0aa6f7a831def0",
   "outputs": [
    {
     "data": {
      "text/plain": [
       "           name    type1                   path\n",
       "0     abomasnow    grass   images/abomasnow.png\n",
       "1          abra  psychic        images/abra.png\n",
       "2         absol   normal       images/absol.png\n",
       "3      accelgor      bug    images/accelgor.png\n",
       "4    aerodactyl      bug  images/aerodactyl.png\n",
       "..          ...      ...                    ...\n",
       "764   zigzagoon   normal   images/zigzagoon.png\n",
       "765     zoroark   normal     images/zoroark.png\n",
       "766       zorua   normal       images/zorua.png\n",
       "767       zubat    grass       images/zubat.png\n",
       "768    zweilous    water    images/zweilous.png\n",
       "\n",
       "[769 rows x 3 columns]"
      ],
      "text/html": [
       "<div>\n",
       "<style scoped>\n",
       "    .dataframe tbody tr th:only-of-type {\n",
       "        vertical-align: middle;\n",
       "    }\n",
       "\n",
       "    .dataframe tbody tr th {\n",
       "        vertical-align: top;\n",
       "    }\n",
       "\n",
       "    .dataframe thead th {\n",
       "        text-align: right;\n",
       "    }\n",
       "</style>\n",
       "<table border=\"1\" class=\"dataframe\">\n",
       "  <thead>\n",
       "    <tr style=\"text-align: right;\">\n",
       "      <th></th>\n",
       "      <th>name</th>\n",
       "      <th>type1</th>\n",
       "      <th>path</th>\n",
       "    </tr>\n",
       "  </thead>\n",
       "  <tbody>\n",
       "    <tr>\n",
       "      <th>0</th>\n",
       "      <td>abomasnow</td>\n",
       "      <td>grass</td>\n",
       "      <td>images/abomasnow.png</td>\n",
       "    </tr>\n",
       "    <tr>\n",
       "      <th>1</th>\n",
       "      <td>abra</td>\n",
       "      <td>psychic</td>\n",
       "      <td>images/abra.png</td>\n",
       "    </tr>\n",
       "    <tr>\n",
       "      <th>2</th>\n",
       "      <td>absol</td>\n",
       "      <td>normal</td>\n",
       "      <td>images/absol.png</td>\n",
       "    </tr>\n",
       "    <tr>\n",
       "      <th>3</th>\n",
       "      <td>accelgor</td>\n",
       "      <td>bug</td>\n",
       "      <td>images/accelgor.png</td>\n",
       "    </tr>\n",
       "    <tr>\n",
       "      <th>4</th>\n",
       "      <td>aerodactyl</td>\n",
       "      <td>bug</td>\n",
       "      <td>images/aerodactyl.png</td>\n",
       "    </tr>\n",
       "    <tr>\n",
       "      <th>...</th>\n",
       "      <td>...</td>\n",
       "      <td>...</td>\n",
       "      <td>...</td>\n",
       "    </tr>\n",
       "    <tr>\n",
       "      <th>764</th>\n",
       "      <td>zigzagoon</td>\n",
       "      <td>normal</td>\n",
       "      <td>images/zigzagoon.png</td>\n",
       "    </tr>\n",
       "    <tr>\n",
       "      <th>765</th>\n",
       "      <td>zoroark</td>\n",
       "      <td>normal</td>\n",
       "      <td>images/zoroark.png</td>\n",
       "    </tr>\n",
       "    <tr>\n",
       "      <th>766</th>\n",
       "      <td>zorua</td>\n",
       "      <td>normal</td>\n",
       "      <td>images/zorua.png</td>\n",
       "    </tr>\n",
       "    <tr>\n",
       "      <th>767</th>\n",
       "      <td>zubat</td>\n",
       "      <td>grass</td>\n",
       "      <td>images/zubat.png</td>\n",
       "    </tr>\n",
       "    <tr>\n",
       "      <th>768</th>\n",
       "      <td>zweilous</td>\n",
       "      <td>water</td>\n",
       "      <td>images/zweilous.png</td>\n",
       "    </tr>\n",
       "  </tbody>\n",
       "</table>\n",
       "<p>769 rows × 3 columns</p>\n",
       "</div>"
      ]
     },
     "execution_count": 16,
     "metadata": {},
     "output_type": "execute_result"
    }
   ],
   "execution_count": 16
  },
  {
   "metadata": {},
   "cell_type": "markdown",
   "source": "<h4>Аугментируем изображения датасета с помощью генератора</h4>",
   "id": "fd86b78eeb1452c2"
  },
  {
   "metadata": {
    "ExecuteTime": {
     "end_time": "2024-06-05T19:29:52.207517Z",
     "start_time": "2024-06-05T19:29:52.148743Z"
    }
   },
   "cell_type": "code",
   "source": [
    "train_datagenerator = ImageDataGenerator(\n",
    "    featurewise_std_normalization=False,\n",
    "    samplewise_std_normalization=False,\n",
    "    rescale=1./255,\n",
    "    rotation_range=40,\n",
    "    width_shift_range=0.2,\n",
    "    height_shift_range=0.2,\n",
    "    shear_range=.2,\n",
    "    zoom_range=0.2,\n",
    "    horizontal_flip=True,\n",
    "    fill_mode='nearest',\n",
    "    validation_split=0.2)\n",
    "# Генератор из обучающего датасета\n",
    "train_generator = train_datagenerator.flow_from_dataframe(\n",
    "    data,\n",
    "    x_col='path',\n",
    "    y_col='type1',\n",
    "    target_size=(120, 120),\n",
    "    color_mode='rgba',\n",
    "    classes=most_common,\n",
    "    class_mode='categorical',\n",
    "    batch_size=32,\n",
    "    shuffle=True,\n",
    "    seed=1,\n",
    "    subset='training')\n",
    "# Генератор из тренировочного датасета\n",
    "validation_generator = train_datagenerator.flow_from_dataframe(\n",
    "    data ,\n",
    "    x_col='path',\n",
    "    y_col='type1',\n",
    "    target_size=(120, 120),\n",
    "    color_mode='rgba',\n",
    "    classes=most_common,\n",
    "    class_mode='categorical',\n",
    "    batch_size=4,\n",
    "    shuffle=True,\n",
    "    seed=1,\n",
    "    subset='validation'\n",
    ")"
   ],
   "id": "9b11ff23e8a25999",
   "outputs": [
    {
     "name": "stdout",
     "output_type": "stream",
     "text": [
      "Found 616 validated image filenames belonging to 5 classes.\n",
      "Found 153 validated image filenames belonging to 5 classes.\n"
     ]
    }
   ],
   "execution_count": 17
  },
  {
   "metadata": {},
   "cell_type": "markdown",
   "source": "<h4>Модель сверточной сети: <u>D + (CV + MP)^3 + DO + F + D + S</u></h4>",
   "id": "878c0dfb1869c99a"
  },
  {
   "metadata": {
    "ExecuteTime": {
     "end_time": "2024-06-05T19:29:54.798868Z",
     "start_time": "2024-06-05T19:29:54.584869Z"
    }
   },
   "cell_type": "code",
   "source": [
    "# Строим модель сверточной нейронной сети\n",
    "model = ks.models.Sequential()\n",
    "model.add(ks.layers.Dense(4, input_shape=(120, 120, 4)))\n",
    "\n",
    "model.add(ks.layers.Conv2D(64, (3, 3), activation='relu'))\n",
    "model.add(ks.layers.MaxPooling2D(2, 2))\n",
    "\n",
    "model.add(ks.layers.Conv2D(128, (3, 3), activation='relu'))\n",
    "model.add(ks.layers.MaxPooling2D(2, 2))\n",
    "\n",
    "model.add(ks.layers.Conv2D(256, (3, 3), activation='relu'))\n",
    "model.add(ks.layers.MaxPooling2D(2, 2))\n",
    "\n",
    "model.add(ks.layers.Conv2D(512, (3, 3), activation='relu'))\n",
    "model.add(ks.layers.MaxPooling2D(2, 2))\n",
    "model.add(ks.layers.Dropout(0.2))\n",
    "\n",
    "model.add(ks.layers.Flatten())\n",
    "\n",
    "model.add(ks.layers.Dense(1024, activation='relu'))\n",
    "\n",
    "model.add(ks.layers.Dense(NUM_CLASSES, activation='softmax'))"
   ],
   "id": "d810e1c12a576b4a",
   "outputs": [],
   "execution_count": 18
  },
  {
   "metadata": {
    "ExecuteTime": {
     "end_time": "2024-06-05T19:29:56.160266Z",
     "start_time": "2024-06-05T19:29:56.105322Z"
    }
   },
   "cell_type": "code",
   "source": [
    "model.compile(optimizer='adam',\n",
    "            loss='categorical_crossentropy',\n",
    "            metrics=['accuracy'])\n",
    "model.summary()"
   ],
   "id": "1333fa859f3654ce",
   "outputs": [
    {
     "data": {
      "text/plain": [
       "\u001B[1mModel: \"sequential\"\u001B[0m\n"
      ],
      "text/html": [
       "<pre style=\"white-space:pre;overflow-x:auto;line-height:normal;font-family:Menlo,'DejaVu Sans Mono',consolas,'Courier New',monospace\"><span style=\"font-weight: bold\">Model: \"sequential\"</span>\n",
       "</pre>\n"
      ]
     },
     "metadata": {},
     "output_type": "display_data"
    },
    {
     "data": {
      "text/plain": [
       "┏━━━━━━━━━━━━━━━━━━━━━━━━━━━━━━━━━┳━━━━━━━━━━━━━━━━━━━━━━━━┳━━━━━━━━━━━━━━━┓\n",
       "┃\u001B[1m \u001B[0m\u001B[1mLayer (type)                   \u001B[0m\u001B[1m \u001B[0m┃\u001B[1m \u001B[0m\u001B[1mOutput Shape          \u001B[0m\u001B[1m \u001B[0m┃\u001B[1m \u001B[0m\u001B[1m      Param #\u001B[0m\u001B[1m \u001B[0m┃\n",
       "┡━━━━━━━━━━━━━━━━━━━━━━━━━━━━━━━━━╇━━━━━━━━━━━━━━━━━━━━━━━━╇━━━━━━━━━━━━━━━┩\n",
       "│ dense (\u001B[38;5;33mDense\u001B[0m)                   │ (\u001B[38;5;45mNone\u001B[0m, \u001B[38;5;34m120\u001B[0m, \u001B[38;5;34m120\u001B[0m, \u001B[38;5;34m4\u001B[0m)    │            \u001B[38;5;34m20\u001B[0m │\n",
       "├─────────────────────────────────┼────────────────────────┼───────────────┤\n",
       "│ conv2d (\u001B[38;5;33mConv2D\u001B[0m)                 │ (\u001B[38;5;45mNone\u001B[0m, \u001B[38;5;34m118\u001B[0m, \u001B[38;5;34m118\u001B[0m, \u001B[38;5;34m64\u001B[0m)   │         \u001B[38;5;34m2,368\u001B[0m │\n",
       "├─────────────────────────────────┼────────────────────────┼───────────────┤\n",
       "│ max_pooling2d (\u001B[38;5;33mMaxPooling2D\u001B[0m)    │ (\u001B[38;5;45mNone\u001B[0m, \u001B[38;5;34m59\u001B[0m, \u001B[38;5;34m59\u001B[0m, \u001B[38;5;34m64\u001B[0m)     │             \u001B[38;5;34m0\u001B[0m │\n",
       "├─────────────────────────────────┼────────────────────────┼───────────────┤\n",
       "│ conv2d_1 (\u001B[38;5;33mConv2D\u001B[0m)               │ (\u001B[38;5;45mNone\u001B[0m, \u001B[38;5;34m57\u001B[0m, \u001B[38;5;34m57\u001B[0m, \u001B[38;5;34m128\u001B[0m)    │        \u001B[38;5;34m73,856\u001B[0m │\n",
       "├─────────────────────────────────┼────────────────────────┼───────────────┤\n",
       "│ max_pooling2d_1 (\u001B[38;5;33mMaxPooling2D\u001B[0m)  │ (\u001B[38;5;45mNone\u001B[0m, \u001B[38;5;34m28\u001B[0m, \u001B[38;5;34m28\u001B[0m, \u001B[38;5;34m128\u001B[0m)    │             \u001B[38;5;34m0\u001B[0m │\n",
       "├─────────────────────────────────┼────────────────────────┼───────────────┤\n",
       "│ conv2d_2 (\u001B[38;5;33mConv2D\u001B[0m)               │ (\u001B[38;5;45mNone\u001B[0m, \u001B[38;5;34m26\u001B[0m, \u001B[38;5;34m26\u001B[0m, \u001B[38;5;34m256\u001B[0m)    │       \u001B[38;5;34m295,168\u001B[0m │\n",
       "├─────────────────────────────────┼────────────────────────┼───────────────┤\n",
       "│ max_pooling2d_2 (\u001B[38;5;33mMaxPooling2D\u001B[0m)  │ (\u001B[38;5;45mNone\u001B[0m, \u001B[38;5;34m13\u001B[0m, \u001B[38;5;34m13\u001B[0m, \u001B[38;5;34m256\u001B[0m)    │             \u001B[38;5;34m0\u001B[0m │\n",
       "├─────────────────────────────────┼────────────────────────┼───────────────┤\n",
       "│ conv2d_3 (\u001B[38;5;33mConv2D\u001B[0m)               │ (\u001B[38;5;45mNone\u001B[0m, \u001B[38;5;34m11\u001B[0m, \u001B[38;5;34m11\u001B[0m, \u001B[38;5;34m512\u001B[0m)    │     \u001B[38;5;34m1,180,160\u001B[0m │\n",
       "├─────────────────────────────────┼────────────────────────┼───────────────┤\n",
       "│ max_pooling2d_3 (\u001B[38;5;33mMaxPooling2D\u001B[0m)  │ (\u001B[38;5;45mNone\u001B[0m, \u001B[38;5;34m5\u001B[0m, \u001B[38;5;34m5\u001B[0m, \u001B[38;5;34m512\u001B[0m)      │             \u001B[38;5;34m0\u001B[0m │\n",
       "├─────────────────────────────────┼────────────────────────┼───────────────┤\n",
       "│ dropout (\u001B[38;5;33mDropout\u001B[0m)               │ (\u001B[38;5;45mNone\u001B[0m, \u001B[38;5;34m5\u001B[0m, \u001B[38;5;34m5\u001B[0m, \u001B[38;5;34m512\u001B[0m)      │             \u001B[38;5;34m0\u001B[0m │\n",
       "├─────────────────────────────────┼────────────────────────┼───────────────┤\n",
       "│ flatten (\u001B[38;5;33mFlatten\u001B[0m)               │ (\u001B[38;5;45mNone\u001B[0m, \u001B[38;5;34m12800\u001B[0m)          │             \u001B[38;5;34m0\u001B[0m │\n",
       "├─────────────────────────────────┼────────────────────────┼───────────────┤\n",
       "│ dense_1 (\u001B[38;5;33mDense\u001B[0m)                 │ (\u001B[38;5;45mNone\u001B[0m, \u001B[38;5;34m1024\u001B[0m)           │    \u001B[38;5;34m13,108,224\u001B[0m │\n",
       "├─────────────────────────────────┼────────────────────────┼───────────────┤\n",
       "│ dense_2 (\u001B[38;5;33mDense\u001B[0m)                 │ (\u001B[38;5;45mNone\u001B[0m, \u001B[38;5;34m5\u001B[0m)              │         \u001B[38;5;34m5,125\u001B[0m │\n",
       "└─────────────────────────────────┴────────────────────────┴───────────────┘\n"
      ],
      "text/html": [
       "<pre style=\"white-space:pre;overflow-x:auto;line-height:normal;font-family:Menlo,'DejaVu Sans Mono',consolas,'Courier New',monospace\">┏━━━━━━━━━━━━━━━━━━━━━━━━━━━━━━━━━┳━━━━━━━━━━━━━━━━━━━━━━━━┳━━━━━━━━━━━━━━━┓\n",
       "┃<span style=\"font-weight: bold\"> Layer (type)                    </span>┃<span style=\"font-weight: bold\"> Output Shape           </span>┃<span style=\"font-weight: bold\">       Param # </span>┃\n",
       "┡━━━━━━━━━━━━━━━━━━━━━━━━━━━━━━━━━╇━━━━━━━━━━━━━━━━━━━━━━━━╇━━━━━━━━━━━━━━━┩\n",
       "│ dense (<span style=\"color: #0087ff; text-decoration-color: #0087ff\">Dense</span>)                   │ (<span style=\"color: #00d7ff; text-decoration-color: #00d7ff\">None</span>, <span style=\"color: #00af00; text-decoration-color: #00af00\">120</span>, <span style=\"color: #00af00; text-decoration-color: #00af00\">120</span>, <span style=\"color: #00af00; text-decoration-color: #00af00\">4</span>)    │            <span style=\"color: #00af00; text-decoration-color: #00af00\">20</span> │\n",
       "├─────────────────────────────────┼────────────────────────┼───────────────┤\n",
       "│ conv2d (<span style=\"color: #0087ff; text-decoration-color: #0087ff\">Conv2D</span>)                 │ (<span style=\"color: #00d7ff; text-decoration-color: #00d7ff\">None</span>, <span style=\"color: #00af00; text-decoration-color: #00af00\">118</span>, <span style=\"color: #00af00; text-decoration-color: #00af00\">118</span>, <span style=\"color: #00af00; text-decoration-color: #00af00\">64</span>)   │         <span style=\"color: #00af00; text-decoration-color: #00af00\">2,368</span> │\n",
       "├─────────────────────────────────┼────────────────────────┼───────────────┤\n",
       "│ max_pooling2d (<span style=\"color: #0087ff; text-decoration-color: #0087ff\">MaxPooling2D</span>)    │ (<span style=\"color: #00d7ff; text-decoration-color: #00d7ff\">None</span>, <span style=\"color: #00af00; text-decoration-color: #00af00\">59</span>, <span style=\"color: #00af00; text-decoration-color: #00af00\">59</span>, <span style=\"color: #00af00; text-decoration-color: #00af00\">64</span>)     │             <span style=\"color: #00af00; text-decoration-color: #00af00\">0</span> │\n",
       "├─────────────────────────────────┼────────────────────────┼───────────────┤\n",
       "│ conv2d_1 (<span style=\"color: #0087ff; text-decoration-color: #0087ff\">Conv2D</span>)               │ (<span style=\"color: #00d7ff; text-decoration-color: #00d7ff\">None</span>, <span style=\"color: #00af00; text-decoration-color: #00af00\">57</span>, <span style=\"color: #00af00; text-decoration-color: #00af00\">57</span>, <span style=\"color: #00af00; text-decoration-color: #00af00\">128</span>)    │        <span style=\"color: #00af00; text-decoration-color: #00af00\">73,856</span> │\n",
       "├─────────────────────────────────┼────────────────────────┼───────────────┤\n",
       "│ max_pooling2d_1 (<span style=\"color: #0087ff; text-decoration-color: #0087ff\">MaxPooling2D</span>)  │ (<span style=\"color: #00d7ff; text-decoration-color: #00d7ff\">None</span>, <span style=\"color: #00af00; text-decoration-color: #00af00\">28</span>, <span style=\"color: #00af00; text-decoration-color: #00af00\">28</span>, <span style=\"color: #00af00; text-decoration-color: #00af00\">128</span>)    │             <span style=\"color: #00af00; text-decoration-color: #00af00\">0</span> │\n",
       "├─────────────────────────────────┼────────────────────────┼───────────────┤\n",
       "│ conv2d_2 (<span style=\"color: #0087ff; text-decoration-color: #0087ff\">Conv2D</span>)               │ (<span style=\"color: #00d7ff; text-decoration-color: #00d7ff\">None</span>, <span style=\"color: #00af00; text-decoration-color: #00af00\">26</span>, <span style=\"color: #00af00; text-decoration-color: #00af00\">26</span>, <span style=\"color: #00af00; text-decoration-color: #00af00\">256</span>)    │       <span style=\"color: #00af00; text-decoration-color: #00af00\">295,168</span> │\n",
       "├─────────────────────────────────┼────────────────────────┼───────────────┤\n",
       "│ max_pooling2d_2 (<span style=\"color: #0087ff; text-decoration-color: #0087ff\">MaxPooling2D</span>)  │ (<span style=\"color: #00d7ff; text-decoration-color: #00d7ff\">None</span>, <span style=\"color: #00af00; text-decoration-color: #00af00\">13</span>, <span style=\"color: #00af00; text-decoration-color: #00af00\">13</span>, <span style=\"color: #00af00; text-decoration-color: #00af00\">256</span>)    │             <span style=\"color: #00af00; text-decoration-color: #00af00\">0</span> │\n",
       "├─────────────────────────────────┼────────────────────────┼───────────────┤\n",
       "│ conv2d_3 (<span style=\"color: #0087ff; text-decoration-color: #0087ff\">Conv2D</span>)               │ (<span style=\"color: #00d7ff; text-decoration-color: #00d7ff\">None</span>, <span style=\"color: #00af00; text-decoration-color: #00af00\">11</span>, <span style=\"color: #00af00; text-decoration-color: #00af00\">11</span>, <span style=\"color: #00af00; text-decoration-color: #00af00\">512</span>)    │     <span style=\"color: #00af00; text-decoration-color: #00af00\">1,180,160</span> │\n",
       "├─────────────────────────────────┼────────────────────────┼───────────────┤\n",
       "│ max_pooling2d_3 (<span style=\"color: #0087ff; text-decoration-color: #0087ff\">MaxPooling2D</span>)  │ (<span style=\"color: #00d7ff; text-decoration-color: #00d7ff\">None</span>, <span style=\"color: #00af00; text-decoration-color: #00af00\">5</span>, <span style=\"color: #00af00; text-decoration-color: #00af00\">5</span>, <span style=\"color: #00af00; text-decoration-color: #00af00\">512</span>)      │             <span style=\"color: #00af00; text-decoration-color: #00af00\">0</span> │\n",
       "├─────────────────────────────────┼────────────────────────┼───────────────┤\n",
       "│ dropout (<span style=\"color: #0087ff; text-decoration-color: #0087ff\">Dropout</span>)               │ (<span style=\"color: #00d7ff; text-decoration-color: #00d7ff\">None</span>, <span style=\"color: #00af00; text-decoration-color: #00af00\">5</span>, <span style=\"color: #00af00; text-decoration-color: #00af00\">5</span>, <span style=\"color: #00af00; text-decoration-color: #00af00\">512</span>)      │             <span style=\"color: #00af00; text-decoration-color: #00af00\">0</span> │\n",
       "├─────────────────────────────────┼────────────────────────┼───────────────┤\n",
       "│ flatten (<span style=\"color: #0087ff; text-decoration-color: #0087ff\">Flatten</span>)               │ (<span style=\"color: #00d7ff; text-decoration-color: #00d7ff\">None</span>, <span style=\"color: #00af00; text-decoration-color: #00af00\">12800</span>)          │             <span style=\"color: #00af00; text-decoration-color: #00af00\">0</span> │\n",
       "├─────────────────────────────────┼────────────────────────┼───────────────┤\n",
       "│ dense_1 (<span style=\"color: #0087ff; text-decoration-color: #0087ff\">Dense</span>)                 │ (<span style=\"color: #00d7ff; text-decoration-color: #00d7ff\">None</span>, <span style=\"color: #00af00; text-decoration-color: #00af00\">1024</span>)           │    <span style=\"color: #00af00; text-decoration-color: #00af00\">13,108,224</span> │\n",
       "├─────────────────────────────────┼────────────────────────┼───────────────┤\n",
       "│ dense_2 (<span style=\"color: #0087ff; text-decoration-color: #0087ff\">Dense</span>)                 │ (<span style=\"color: #00d7ff; text-decoration-color: #00d7ff\">None</span>, <span style=\"color: #00af00; text-decoration-color: #00af00\">5</span>)              │         <span style=\"color: #00af00; text-decoration-color: #00af00\">5,125</span> │\n",
       "└─────────────────────────────────┴────────────────────────┴───────────────┘\n",
       "</pre>\n"
      ]
     },
     "metadata": {},
     "output_type": "display_data"
    },
    {
     "data": {
      "text/plain": [
       "\u001B[1m Total params: \u001B[0m\u001B[38;5;34m14,664,921\u001B[0m (55.94 MB)\n"
      ],
      "text/html": [
       "<pre style=\"white-space:pre;overflow-x:auto;line-height:normal;font-family:Menlo,'DejaVu Sans Mono',consolas,'Courier New',monospace\"><span style=\"font-weight: bold\"> Total params: </span><span style=\"color: #00af00; text-decoration-color: #00af00\">14,664,921</span> (55.94 MB)\n",
       "</pre>\n"
      ]
     },
     "metadata": {},
     "output_type": "display_data"
    },
    {
     "data": {
      "text/plain": [
       "\u001B[1m Trainable params: \u001B[0m\u001B[38;5;34m14,664,921\u001B[0m (55.94 MB)\n"
      ],
      "text/html": [
       "<pre style=\"white-space:pre;overflow-x:auto;line-height:normal;font-family:Menlo,'DejaVu Sans Mono',consolas,'Courier New',monospace\"><span style=\"font-weight: bold\"> Trainable params: </span><span style=\"color: #00af00; text-decoration-color: #00af00\">14,664,921</span> (55.94 MB)\n",
       "</pre>\n"
      ]
     },
     "metadata": {},
     "output_type": "display_data"
    },
    {
     "data": {
      "text/plain": [
       "\u001B[1m Non-trainable params: \u001B[0m\u001B[38;5;34m0\u001B[0m (0.00 B)\n"
      ],
      "text/html": [
       "<pre style=\"white-space:pre;overflow-x:auto;line-height:normal;font-family:Menlo,'DejaVu Sans Mono',consolas,'Courier New',monospace\"><span style=\"font-weight: bold\"> Non-trainable params: </span><span style=\"color: #00af00; text-decoration-color: #00af00\">0</span> (0.00 B)\n",
       "</pre>\n"
      ]
     },
     "metadata": {},
     "output_type": "display_data"
    }
   ],
   "execution_count": 19
  },
  {
   "metadata": {},
   "cell_type": "markdown",
   "source": "<h4>Обучаем модель на 50 эпохах</h4>",
   "id": "d079ac003c77fb9"
  },
  {
   "metadata": {
    "ExecuteTime": {
     "end_time": "2024-06-02T13:53:12.657958Z",
     "start_time": "2024-06-02T13:39:37.567217Z"
    }
   },
   "cell_type": "code",
   "source": [
    "history = model.fit(\n",
    "    train_generator,\n",
    "    epochs=50,\n",
    "    validation_data=validation_generator\n",
    ")"
   ],
   "id": "58e00bb39da281a",
   "execution_count": 21,
   "outputs": []
  },
  {
   "metadata": {},
   "cell_type": "markdown",
   "source": "<h4>Сохраняем модель и график точности</h4>",
   "id": "3e9eab13984b2899"
  },
  {
   "metadata": {
    "ExecuteTime": {
     "end_time": "2024-06-02T13:53:42.442433Z",
     "start_time": "2024-06-02T13:53:41.181231Z"
    }
   },
   "cell_type": "code",
   "source": "model.save('models/type1/best/model.h5')",
   "id": "49baa730aa6f1e5b",
   "execution_count": 23,
   "outputs": []
  },
  {
   "metadata": {
    "ExecuteTime": {
     "end_time": "2024-06-02T13:54:16.634549Z",
     "start_time": "2024-06-02T13:54:15.767833Z"
    }
   },
   "cell_type": "code",
   "source": [
    "plt.plot(history.history['accuracy'])\n",
    "plt.plot(history.history['val_accuracy'])\n",
    "plt.title('Model accuracy')\n",
    "plt.xlabel('Epoch')\n",
    "plt.ylabel('accuracy')\n",
    "plt.legend(['train', 'test'])\n",
    "plt.savefig('models/type1/best/accuracy.png')"
   ],
   "id": "366cc24cfe94796d",
   "execution_count": 24,
   "outputs": []
  },
  {
   "metadata": {},
   "cell_type": "markdown",
   "source": "<h4>Проверяем модель на изображении покемона</h4>",
   "id": "792ef938a2a4cf77"
  },
  {
   "metadata": {
    "ExecuteTime": {
     "end_time": "2024-06-02T13:54:23.398323Z",
     "start_time": "2024-06-02T13:54:23.391052Z"
    }
   },
   "cell_type": "code",
   "source": [
    "import matplotlib.image as mpimg\n",
    "def predict(model, image_path):\n",
    "    image = mpimg.imread(image_path)\n",
    "    image = np.expand_dims(image, axis=0)\n",
    "    return model.predict(image)"
   ],
   "id": "f2881c1edd49faf1",
   "execution_count": 25,
   "outputs": []
  },
  {
   "metadata": {
    "ExecuteTime": {
     "end_time": "2024-06-02T13:54:30.902878Z",
     "start_time": "2024-06-02T13:54:30.886301Z"
    }
   },
   "cell_type": "code",
   "source": [
    "class_names = most_common\n",
    "def predict_type1(model, img_path):\n",
    "    label = img_path.split('/')[-1].split('.')[0]\n",
    "    prediction = predict(model, img_path)[0]\n",
    "    result = {class_names[i]: prediction[i] for i in range(len(prediction))}\n",
    "    print(f'{label} тип 1: {result}')"
   ],
   "id": "b6eb131db6a118bf",
   "execution_count": 26,
   "outputs": []
  },
  {
   "metadata": {
    "ExecuteTime": {
     "end_time": "2024-06-02T13:54:37.216315Z",
     "start_time": "2024-06-02T13:54:36.736495Z"
    }
   },
   "cell_type": "code",
   "source": "predict_type1(model, 'images/aipom.png')",
   "id": "94fb7807633d49e0",
   "execution_count": 28,
   "outputs": []
  }
 ],
 "metadata": {
  "kernelspec": {
   "display_name": "Python 3",
   "language": "python",
   "name": "python3"
  },
  "language_info": {
   "codemirror_mode": {
    "name": "ipython",
    "version": 2
   },
   "file_extension": ".py",
   "mimetype": "text/x-python",
   "name": "python",
   "nbconvert_exporter": "python",
   "pygments_lexer": "ipython2",
   "version": "2.7.6"
  }
 },
 "nbformat": 4,
 "nbformat_minor": 5
}
